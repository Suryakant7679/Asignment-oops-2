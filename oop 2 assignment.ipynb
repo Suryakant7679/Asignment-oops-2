{
 "cells": [
  {
   "cell_type": "markdown",
   "id": "cccce1e8-e1e0-4dbc-a712-558cdf26be33",
   "metadata": {},
   "source": [
    "Q1. Explain Class and Object with respect to Object-Oriented Programming. Give a suitable example."
   ]
  },
  {
   "cell_type": "markdown",
   "id": "a5f98969-012e-4639-968a-3ea50c04aa46",
   "metadata": {},
   "source": [
    "Ans:- class is blueprint of object ,and an object is real time entity"
   ]
  },
  {
   "cell_type": "code",
   "execution_count": 1,
   "id": "171cbe97-fa32-4eb8-8b74-6632a8c2c793",
   "metadata": {},
   "outputs": [],
   "source": [
    "# defining class and object\n",
    "class animal:\n",
    "    def cat(self):\n",
    "        return \"cat is an animal\""
   ]
  },
  {
   "cell_type": "code",
   "execution_count": 2,
   "id": "8f67c8a7-bb83-4284-b57d-68fd1edb02e6",
   "metadata": {},
   "outputs": [],
   "source": [
    "# making object of class animal\n",
    "c1=animal()"
   ]
  },
  {
   "cell_type": "code",
   "execution_count": 4,
   "id": "72b46369-93b8-46b8-ad14-2d0664eb9d06",
   "metadata": {},
   "outputs": [
    {
     "data": {
      "text/plain": [
       "'cat is an animal'"
      ]
     },
     "execution_count": 4,
     "metadata": {},
     "output_type": "execute_result"
    }
   ],
   "source": [
    "# c1 is object of animal class\n",
    "c1.cat()"
   ]
  },
  {
   "cell_type": "markdown",
   "id": "d9ea6c1b-1acf-43a7-a136-45ffcfa0e545",
   "metadata": {},
   "source": [
    "Q2. Name the four pillars of OOPs."
   ]
  },
  {
   "cell_type": "markdown",
   "id": "b03e13d8-f08e-48cc-8c39-621239ea80fd",
   "metadata": {},
   "source": [
    "The four pillars of OOPs are :-\n",
    "1) INHERITANCE\n",
    "2) POLYMORPHISM\n",
    "3) ENCAPSULATION\n",
    "4) ABSTRACTION"
   ]
  },
  {
   "cell_type": "markdown",
   "id": "b96516b0-c584-4ca0-848d-4382f1652732",
   "metadata": {},
   "source": [
    "Q3. Explain why the __init__() function is used. Give a suitable example."
   ]
  },
  {
   "cell_type": "markdown",
   "id": "c284fa3e-4268-46ed-b987-26510c509b5a",
   "metadata": {},
   "source": [
    "The init method id used to in similar manner as in c++ we use consturctor\n",
    "init method is called every time when object is created\n"
   ]
  },
  {
   "cell_type": "code",
   "execution_count": 11,
   "id": "375ae592-b147-433e-862d-6c84f66dfb93",
   "metadata": {},
   "outputs": [],
   "source": [
    "class const:\n",
    "    def __init__(self,name,age):\n",
    "        self.name=name\n",
    "        self.age=age\n",
    "    def detail(self):\n",
    "        return self.name,self.age"
   ]
  },
  {
   "cell_type": "code",
   "execution_count": 13,
   "id": "7708aafa-ef57-495a-a576-fa97394933d0",
   "metadata": {},
   "outputs": [],
   "source": [
    "c1=const(\"surya\",22)"
   ]
  },
  {
   "cell_type": "code",
   "execution_count": 14,
   "id": "b931f4df-2c1b-44a7-a6bd-bfe367eeb1be",
   "metadata": {},
   "outputs": [
    {
     "data": {
      "text/plain": [
       "('surya', 22)"
      ]
     },
     "execution_count": 14,
     "metadata": {},
     "output_type": "execute_result"
    }
   ],
   "source": [
    "c1.detail()"
   ]
  },
  {
   "cell_type": "markdown",
   "id": "28b1b3f7-ed08-478d-9433-ddf753c9b9ce",
   "metadata": {},
   "source": [
    "Q4. Why self is used in OOPs?"
   ]
  },
  {
   "cell_type": "markdown",
   "id": "7b7508f2-946b-4fb3-948a-25e38d590d3e",
   "metadata": {},
   "source": [
    "Self is used in OOPs because self keyword helps to recognize the instance passed inside class self keyword is refrence to instance"
   ]
  },
  {
   "cell_type": "code",
   "execution_count": 15,
   "id": "ca62eb61-e053-41cf-a678-263abdfe88c6",
   "metadata": {},
   "outputs": [],
   "source": [
    "# without using self\n",
    "class data: \n",
    "    def fun():\n",
    "        print(\"surya\")\n",
    "    "
   ]
  },
  {
   "cell_type": "code",
   "execution_count": 16,
   "id": "a7e8aa68-a16d-4cbc-8cd1-ea1ff45dd077",
   "metadata": {},
   "outputs": [],
   "source": [
    "c1=data()"
   ]
  },
  {
   "cell_type": "code",
   "execution_count": 18,
   "id": "b4ac5e27-918f-4b47-b5c9-6104012e650e",
   "metadata": {},
   "outputs": [
    {
     "ename": "TypeError",
     "evalue": "data.fun() takes 0 positional arguments but 1 was given",
     "output_type": "error",
     "traceback": [
      "\u001b[0;31m---------------------------------------------------------------------------\u001b[0m",
      "\u001b[0;31mTypeError\u001b[0m                                 Traceback (most recent call last)",
      "Cell \u001b[0;32mIn[18], line 1\u001b[0m\n\u001b[0;32m----> 1\u001b[0m \u001b[43mc1\u001b[49m\u001b[38;5;241;43m.\u001b[39;49m\u001b[43mfun\u001b[49m\u001b[43m(\u001b[49m\u001b[43m)\u001b[49m\n",
      "\u001b[0;31mTypeError\u001b[0m: data.fun() takes 0 positional arguments but 1 was given"
     ]
    }
   ],
   "source": [
    "c1.fun()"
   ]
  },
  {
   "cell_type": "code",
   "execution_count": 19,
   "id": "202a71ef-7a33-4b47-b600-eaddc2260926",
   "metadata": {},
   "outputs": [],
   "source": [
    "#with self\n",
    "class data: \n",
    "    def fun(self):\n",
    "        print(\"surya\")"
   ]
  },
  {
   "cell_type": "code",
   "execution_count": 20,
   "id": "45faf59a-bbdc-44ed-86cb-30d4f38b9fd8",
   "metadata": {},
   "outputs": [],
   "source": [
    "c2=data()"
   ]
  },
  {
   "cell_type": "code",
   "execution_count": 21,
   "id": "c19779d3-0705-423d-a6a2-b11ebe8cb2df",
   "metadata": {},
   "outputs": [
    {
     "name": "stdout",
     "output_type": "stream",
     "text": [
      "surya\n"
     ]
    }
   ],
   "source": [
    "c2.fun()"
   ]
  },
  {
   "cell_type": "markdown",
   "id": "f99da695-d36b-4177-95a2-56283d5294d5",
   "metadata": {},
   "source": [
    "Q5. What is inheritance? Give an example for each type of inheritance."
   ]
  },
  {
   "cell_type": "raw",
   "id": "d0f08f42-0660-4473-8e8a-551977d37941",
   "metadata": {},
   "source": [
    "Inheritance is one of the most important concept of oops \n",
    "It provides the feasibility to reuse code \n",
    "Due to ineritance we can use the feature of one class that is base class to its derived class"
   ]
  },
  {
   "cell_type": "code",
   "execution_count": 22,
   "id": "cc33adfc-4d06-4a64-a32f-11db5dc6c415",
   "metadata": {},
   "outputs": [],
   "source": [
    "# Single inheritance\n",
    "class teacher:\n",
    "    def detail(self):\n",
    "        print(\"there are 50 teacher\")\n",
    "class detail_teacher_student(teacher):\n",
    "    def more_detail(self):\n",
    "        print(\"there are whole 150 members includeing teacher and student\")"
   ]
  },
  {
   "cell_type": "code",
   "execution_count": 25,
   "id": "2b59ac4d-47a9-4cc8-b8d1-5774e8252f59",
   "metadata": {},
   "outputs": [],
   "source": [
    "t1=detail_teacher_student()"
   ]
  },
  {
   "cell_type": "code",
   "execution_count": 26,
   "id": "df20e977-3f58-427c-a3e0-1657c6dae59b",
   "metadata": {},
   "outputs": [
    {
     "name": "stdout",
     "output_type": "stream",
     "text": [
      "there are 50 teacher\n"
     ]
    }
   ],
   "source": [
    "t1.detail()"
   ]
  },
  {
   "cell_type": "code",
   "execution_count": 27,
   "id": "316dee8b-8357-4259-96e6-800247eefc45",
   "metadata": {},
   "outputs": [
    {
     "name": "stdout",
     "output_type": "stream",
     "text": [
      "there are whole 150 members includeing teacher and student\n"
     ]
    }
   ],
   "source": [
    "t1.more_detail()"
   ]
  },
  {
   "cell_type": "code",
   "execution_count": 28,
   "id": "5f2a5a0f-f8fd-4420-804c-6b32711d2f12",
   "metadata": {},
   "outputs": [],
   "source": [
    "# multiple inheritance\n",
    "class teacher:\n",
    "    def detail(self):\n",
    "        print(\"there are 50 teacher\")\n",
    "class student:\n",
    "    def detail1(self):\n",
    "        print(\"there are 100 students\")\n",
    "class detail_teacher_student(teacher,student):\n",
    "    def more_detail(self):\n",
    "        print(\"there are whole 150 members includeing teacher and student\")"
   ]
  },
  {
   "cell_type": "code",
   "execution_count": 29,
   "id": "e57100be-3d00-4e9a-ad1d-b79f24581d18",
   "metadata": {},
   "outputs": [],
   "source": [
    "t2=detail_teacher_student()"
   ]
  },
  {
   "cell_type": "code",
   "execution_count": 30,
   "id": "cf867b43-87a8-4d32-a6fc-eca269934dd1",
   "metadata": {},
   "outputs": [
    {
     "name": "stdout",
     "output_type": "stream",
     "text": [
      "there are 50 teacher\n"
     ]
    }
   ],
   "source": [
    "t2.detail()"
   ]
  },
  {
   "cell_type": "code",
   "execution_count": 31,
   "id": "d26eeb86-c068-4ca9-bbef-1d232362d4cd",
   "metadata": {},
   "outputs": [
    {
     "name": "stdout",
     "output_type": "stream",
     "text": [
      "there are 100 students\n"
     ]
    }
   ],
   "source": [
    "t2.detail1()"
   ]
  },
  {
   "cell_type": "code",
   "execution_count": 32,
   "id": "27e88e15-1f0e-47a5-b9d7-0e27dfb45022",
   "metadata": {},
   "outputs": [
    {
     "name": "stdout",
     "output_type": "stream",
     "text": [
      "there are whole 150 members includeing teacher and student\n"
     ]
    }
   ],
   "source": [
    "t2.more_detail()"
   ]
  },
  {
   "cell_type": "code",
   "execution_count": 39,
   "id": "724622b3-f259-449d-86ce-43ccf4f4b430",
   "metadata": {},
   "outputs": [],
   "source": [
    "#multilevel inheritance\n",
    "class teacher:\n",
    "    def detail(self):\n",
    "        print(\"there are 50 teacher\")\n",
    "class student_teacher(teacher):\n",
    "    def detail1(self):\n",
    "        print(\"there are 100 students\")\n",
    "class detail_staff(student_teacher):\n",
    "    def more_detail(self):\n",
    "        print(\"there are whole 250 members includeing teacher and student\")\n"
   ]
  },
  {
   "cell_type": "code",
   "execution_count": 43,
   "id": "e4bf3bd8-6bd2-405d-b2e6-45ecea45ccf0",
   "metadata": {},
   "outputs": [],
   "source": [
    "t3=detail_staff()"
   ]
  },
  {
   "cell_type": "code",
   "execution_count": 44,
   "id": "68596dd3-7314-46cc-ab1e-551e21fc2cbb",
   "metadata": {},
   "outputs": [
    {
     "name": "stdout",
     "output_type": "stream",
     "text": [
      "there are 50 teacher\n"
     ]
    }
   ],
   "source": [
    "t3.detail()"
   ]
  },
  {
   "cell_type": "code",
   "execution_count": 46,
   "id": "41907af0-6a49-477f-93ed-5f4581902d56",
   "metadata": {},
   "outputs": [
    {
     "name": "stdout",
     "output_type": "stream",
     "text": [
      "there are whole 250 members includeing teacher and student\n"
     ]
    }
   ],
   "source": [
    "t3.more_detail()"
   ]
  },
  {
   "cell_type": "code",
   "execution_count": 47,
   "id": "f0482d1c-fcb8-488e-b6cd-25fcf87627f4",
   "metadata": {},
   "outputs": [
    {
     "name": "stdout",
     "output_type": "stream",
     "text": [
      "there are 50 teacher\n"
     ]
    }
   ],
   "source": [
    "t3.detail()"
   ]
  },
  {
   "cell_type": "code",
   "execution_count": 48,
   "id": "7c813758-8ea8-404b-9b22-b166a3040530",
   "metadata": {},
   "outputs": [
    {
     "name": "stdout",
     "output_type": "stream",
     "text": [
      "there are 100 students\n"
     ]
    }
   ],
   "source": [
    "t3.detail1()"
   ]
  },
  {
   "cell_type": "code",
   "execution_count": null,
   "id": "363b9a65-1e74-4caa-8453-935b50f8fb45",
   "metadata": {},
   "outputs": [],
   "source": []
  }
 ],
 "metadata": {
  "kernelspec": {
   "display_name": "Python 3 (ipykernel)",
   "language": "python",
   "name": "python3"
  },
  "language_info": {
   "codemirror_mode": {
    "name": "ipython",
    "version": 3
   },
   "file_extension": ".py",
   "mimetype": "text/x-python",
   "name": "python",
   "nbconvert_exporter": "python",
   "pygments_lexer": "ipython3",
   "version": "3.10.8"
  }
 },
 "nbformat": 4,
 "nbformat_minor": 5
}
